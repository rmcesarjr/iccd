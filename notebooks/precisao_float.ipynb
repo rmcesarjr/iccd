{
  "nbformat": 4,
  "nbformat_minor": 0,
  "metadata": {
    "colab": {
      "provenance": []
    },
    "kernelspec": {
      "name": "python3",
      "display_name": "Python 3"
    },
    "language_info": {
      "name": "python"
    }
  },
  "cells": [
    {
      "cell_type": "markdown",
      "source": [
        "Este material é de uso exclusivo dos estudantes matriculados na disciplina MAC110 do IME-USP. O material ainda está em desenvolvimento. Qualquer reprodução, distribuição ou compartilhamento, integral ou parcial, fora do âmbito da disciplina, sem autorização expressa dos autores, é proibido. Todos os direitos reservados.\n",
        "\n",
        "Por gentileza, nos ajude a melhorar o livro! Isso ajudará aos estudantes atuais e futuros. Encontrou erros? Achou partes confusas? Está faltando algo? Como podemos melhorar? Basta preencher o formulário aqui: https://forms.gle/qVw5UGF2gWBAtnk49"
      ],
      "metadata": {
        "id": "N1L64QPYi5-R"
      }
    },
    {
      "cell_type": "code",
      "execution_count": 1,
      "metadata": {
        "colab": {
          "base_uri": "https://localhost:8080/"
        },
        "id": "9e0Xerk5i5XE",
        "outputId": "6a763154-8731-4230-8463-83174fc442ea"
      },
      "outputs": [
        {
          "output_type": "stream",
          "name": "stdout",
          "text": [
            "Representação como inteiro: 553 (tipo: <class 'int'>)\n",
            "Representação como float: 553.089 (tipo: <class 'float'>)\n",
            "\n",
            "Tamanho de um inteiro em Python: 28 bytes\n",
            "Tamanho de um float em Python: 24 bytes\n",
            "Tamanho de um int32: 4 bytes\n",
            "Tamanho de um float32: 4 bytes\n",
            "Tamanho de um float64: 8 bytes\n",
            "\n",
            "Maior int32: 2147483647\n",
            "Maior int: 9223372036854775807\n",
            "Maior float32: 3.4028234663852886e+38\n",
            "Maior float64: 1.7976931348623157e+308\n",
            "Maior float do Python: 1.7976931348623157e+308\n",
            "Valor: 553.089\n",
            "Representação binária (32 bits): 01000100000010100100010110110010\n",
            "  Sinal (1 bit): 0 (positivo)\n",
            "  Expoente (8 bits): 10001000 (valor: 9)\n",
            "  Mantissa (23 bits): 00010100100010110110010\n",
            "\n",
            "Demonstração do problema de precisão:\n",
            "0.1 + 0.2 = 0.30000000000000004\n",
            "0.1 + 0.2 == 0.3? False\n",
            "Representação interna: 0.30000000000000004441\n",
            "\n",
            "Perímetro com valores de precisão diferentes (7m e 5.23m): 20.0\n"
          ]
        }
      ],
      "source": [
        "import sys\n",
        "import struct\n",
        "import numpy as np\n",
        "\n",
        "# Demonstração 1: Comparando representações de inteiros e pontos flutuantes\n",
        "valor_inteiro = 553\n",
        "valor_float = 553.089\n",
        "\n",
        "print(f\"Representação como inteiro: {valor_inteiro} (tipo: {type(valor_inteiro)})\")\n",
        "print(f\"Representação como float: {valor_float} (tipo: {type(valor_float)})\")\n",
        "\n",
        "# Demonstração 2: Explorando o tamanho em bits/bytes\n",
        "print(f\"\\nTamanho de um inteiro em Python: {sys.getsizeof(valor_inteiro)} bytes\")\n",
        "print(f\"Tamanho de um float em Python: {sys.getsizeof(valor_float)} bytes\")\n",
        "print(f\"Tamanho de um int32: {np.dtype(np.int32).itemsize} bytes\")\n",
        "print(f\"Tamanho de um float32: {np.dtype(np.float32).itemsize} bytes\")\n",
        "print(f\"Tamanho de um float64: {np.dtype(np.float64).itemsize} bytes\")\n",
        "\n",
        "# Demonstração 3: Exibindo os maiores valores possíveis\n",
        "print(f\"\\nMaior int32: {np.iinfo(np.int32).max}\")\n",
        "print(f\"Maior int: {sys.maxsize}\")\n",
        "print(f\"Maior float32: {np.finfo(np.float32).max}\")\n",
        "print(f\"Maior float64: {np.finfo(np.float64).max}\")\n",
        "print(f\"Maior float do Python: {sys.float_info.max}\")\n",
        "\n",
        "# Demonstração 4: Examinando a representação binária de um float\n",
        "def mostrar_bits_float(num):\n",
        "    bits = struct.unpack('!I', struct.pack('!f', num))[0]\n",
        "    binario = bin(bits)[2:].zfill(32)\n",
        "\n",
        "    sinal = binario[0]\n",
        "    expoente = binario[1:9]\n",
        "    mantissa = binario[9:]\n",
        "\n",
        "    print(f\"Valor: {num}\")\n",
        "    print(f\"Representação binária (32 bits): {binario}\")\n",
        "    print(f\"  Sinal (1 bit): {sinal} ({'negativo' if sinal == '1' else 'positivo'})\")\n",
        "    print(f\"  Expoente (8 bits): {expoente} (valor: {int(expoente, 2) - 127})\")\n",
        "    print(f\"  Mantissa (23 bits): {mantissa}\")\n",
        "\n",
        "mostrar_bits_float(553.089)\n",
        "\n",
        "# Demonstração 5: Problema da precisão em pontos flutuantes\n",
        "print(\"\\nDemonstração do problema de precisão:\")\n",
        "a = 0.1 + 0.2\n",
        "print(f\"0.1 + 0.2 = {a}\")\n",
        "print(f\"0.1 + 0.2 == 0.3? {a == 0.3}\")\n",
        "print(f\"Representação interna: {a:.20f}\")\n",
        "\n",
        "# Demonstração 6: Algarismos significativos em computação\n",
        "def calcular_perimetro(comprimento, largura):\n",
        "    perimetro_bruto = 2 * comprimento + 2 * largura\n",
        "\n",
        "    digits_comp = len(str(comprimento).replace('.', '').lstrip('0'))\n",
        "    digits_larg = len(str(largura).replace('.', '').lstrip('0'))\n",
        "\n",
        "    min_digits = min(digits_comp, digits_larg)\n",
        "\n",
        "    from math import log10, floor\n",
        "    if perimetro_bruto == 0:\n",
        "        return 0\n",
        "    return round(perimetro_bruto, -int(floor(log10(abs(perimetro_bruto)))) + (min_digits - 1))\n",
        "\n",
        "resultado1 = calcular_perimetro(7, 5.23)\n",
        "print(f\"\\nPerímetro com valores de precisão diferentes (7m e 5.23m): {resultado1}\")"
      ]
    }
  ]
}
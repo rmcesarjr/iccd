{
  "nbformat": 4,
  "nbformat_minor": 0,
  "metadata": {
    "colab": {
      "provenance": []
    },
    "kernelspec": {
      "name": "python3",
      "display_name": "Python 3"
    },
    "language_info": {
      "name": "python"
    }
  },
  "cells": [
    {
      "cell_type": "markdown",
      "source": [
        "Este material é de uso exclusivo dos estudantes matriculados na disciplina MAC110 do IME-USP. O material ainda está em desenvolvimento. Qualquer reprodução, distribuição ou compartilhamento, integral ou parcial, fora do âmbito da disciplina, sem autorização expressa dos autores, é proibido. Todos os direitos reservados.\n",
        "\n",
        "Por gentileza, nos ajude a melhorar o livro! Isso ajudará aos estudantes atuais e futuros. Encontrou erros? Achou partes confusas? Está faltando algo? Como podemos melhorar? Basta preencher o formulário aqui: https://forms.gle/qVw5UGF2gWBAtnk49\n",
        "\n"
      ],
      "metadata": {
        "id": "rwy7MtKYaSF2"
      }
    },
    {
      "cell_type": "markdown",
      "source": [
        "## Planilhas, mount na nuvem"
      ],
      "metadata": {
        "id": "KN8ikzErKZr_"
      }
    },
    {
      "cell_type": "code",
      "source": [
        "# setup\n",
        "from google.colab import drive\n",
        "import numpy as np\n",
        "\n",
        "drive.mount('/content/drive')\n"
      ],
      "metadata": {
        "colab": {
          "base_uri": "https://localhost:8080/"
        },
        "outputId": "2e18ad66-bbee-4c54-e60f-a28671bb2d34",
        "id": "GYZK_aDnuuXJ"
      },
      "execution_count": 1,
      "outputs": [
        {
          "output_type": "stream",
          "name": "stdout",
          "text": [
            "Mounted at /content/drive\n"
          ]
        }
      ]
    },
    {
      "cell_type": "code",
      "source": [
        "# setup\n",
        "def main():\n",
        "  datasetPath = '/content/drive/My Drive/mountLinks/programasICCD/'\n",
        "  fileName = datasetPath + \"primeiraPlanilhaX.csv\"\n",
        "  x = np.genfromtxt(fileName, delimiter=';', skip_header=1)\n",
        "  x = list(x)\n",
        "  print(x)\n",
        "  n = len(x)\n",
        "  print(n)\n",
        "  for i in range(n):\n",
        "    print(x[i])\n",
        "\n",
        "main()\n",
        "\n"
      ],
      "metadata": {
        "colab": {
          "base_uri": "https://localhost:8080/"
        },
        "id": "e14FHlYYsTsD",
        "outputId": "216defcd-c2fa-4af9-e059-6fc7dfa6cabd"
      },
      "execution_count": 2,
      "outputs": [
        {
          "output_type": "stream",
          "name": "stdout",
          "text": [
            "[np.float64(2.0), np.float64(4.0), np.float64(23.0), np.float64(-5.0)]\n",
            "4\n",
            "2.0\n",
            "4.0\n",
            "23.0\n",
            "-5.0\n"
          ]
        }
      ]
    },
    {
      "cell_type": "code",
      "source": [
        "# leitura da nuvem\n",
        "def main():\n",
        "  datasetPath = '/content/drive/My Drive/mountLinks/programasICCD/'\n",
        "  fileName = datasetPath + \"primeiraPlanilhaX.csv\"\n",
        "  x = np.genfromtxt(fileName, delimiter=';', skip_header=1)\n",
        "  x = list(x)\n",
        "  fileName = datasetPath + \"primeiraPlanilhaY.csv\"\n",
        "  y = np.genfromtxt(fileName, delimiter=';', skip_header=1)\n",
        "  y = list(y)\n",
        "  n = len(x)\n",
        "  print(n)\n",
        "  for i in range(n):\n",
        "    print(x[i], y[i])\n",
        "    print(x[i]+y[i])\n",
        "\n",
        "main()\n"
      ],
      "metadata": {
        "colab": {
          "base_uri": "https://localhost:8080/"
        },
        "id": "2XDRtFo4vISB",
        "outputId": "2f8d7a1c-63fd-4159-e027-0d02f493223a"
      },
      "execution_count": 3,
      "outputs": [
        {
          "output_type": "stream",
          "name": "stdout",
          "text": [
            "4\n",
            "2.0 3.0\n",
            "5.0\n",
            "4.0 -10.0\n",
            "-6.0\n",
            "23.0 5.0\n",
            "28.0\n",
            "-5.0 4.0\n",
            "-1.0\n"
          ]
        }
      ]
    },
    {
      "cell_type": "code",
      "source": [
        "# escrita na nuvem\n",
        "def main():\n",
        "  datasetPath = '/content/drive/My Drive/mountLinks/programasICCD/'\n",
        "  fileName = datasetPath + \"primeiraPlanilhaX.csv\"\n",
        "  x = np.genfromtxt(fileName, delimiter=';', skip_header=1)\n",
        "  x = list(x)\n",
        "  fileName = datasetPath + \"primeiraPlanilhaX.csv\"\n",
        "  y = np.genfromtxt(fileName, delimiter=';', skip_header=1)\n",
        "  y = list(y)\n",
        "  n = len(x)\n",
        "  data = []\n",
        "  for i in range(n):\n",
        "    z = x[i]+y[i]\n",
        "    print(x[i], y[i], z)\n",
        "    data.append(z)\n",
        "\n",
        "  # Nome do novo arquivo para salvar o resultado\n",
        "  newFileName = datasetPath + \"resultadoPlanilhaX.csv\"\n",
        "\n",
        "  # Salvar os dados processados em uma nova planilha CSV usando numpy.savetxt\n",
        "  np.savetxt(newFileName, data, delimiter=';', fmt='%.2f')\n",
        "\n",
        "main()"
      ],
      "metadata": {
        "id": "Lp0WaxS-ycMH",
        "colab": {
          "base_uri": "https://localhost:8080/"
        },
        "outputId": "4852eddc-0869-4861-b866-f4b664c5f932"
      },
      "execution_count": 4,
      "outputs": [
        {
          "output_type": "stream",
          "name": "stdout",
          "text": [
            "2.0 2.0 4.0\n",
            "4.0 4.0 8.0\n",
            "23.0 23.0 46.0\n",
            "-5.0 -5.0 -10.0\n"
          ]
        }
      ]
    }
  ]
}
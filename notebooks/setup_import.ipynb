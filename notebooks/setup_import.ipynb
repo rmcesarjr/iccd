{
  "nbformat": 4,
  "nbformat_minor": 0,
  "metadata": {
    "colab": {
      "provenance": []
    },
    "kernelspec": {
      "name": "python3",
      "display_name": "Python 3"
    },
    "language_info": {
      "name": "python"
    }
  },
  "cells": [
    {
      "cell_type": "markdown",
      "source": [
        "# Data loading\n",
        "\n",
        "Este JN apresenta a receita para baixar os dadasets usados na disciplina ICCD - IME - USP."
      ],
      "metadata": {
        "id": "VD0yOfzKQ0-x"
      }
    },
    {
      "cell_type": "code",
      "execution_count": 8,
      "metadata": {
        "colab": {
          "base_uri": "https://localhost:8080/"
        },
        "id": "Ey2K8SO_ANhy",
        "outputId": "b469989e-2c64-417b-b81c-47be4a508a6a"
      },
      "outputs": [
        {
          "output_type": "stream",
          "name": "stdout",
          "text": [
            "Collecting git+https://github.com/rmcesarjr/iccd.git\n",
            "  Cloning https://github.com/rmcesarjr/iccd.git to /tmp/pip-req-build-v6i4ct0w\n",
            "  Running command git clone --filter=blob:none --quiet https://github.com/rmcesarjr/iccd.git /tmp/pip-req-build-v6i4ct0w\n",
            "  Resolved https://github.com/rmcesarjr/iccd.git to commit 54aab418759981d4bb1346cbbaddab5baf4c792e\n",
            "  Preparing metadata (setup.py) ... \u001b[?25l\u001b[?25hdone\n",
            "Requirement already satisfied: pandas in /usr/local/lib/python3.11/dist-packages (from iccd==0.1) (2.3.1)\n",
            "Requirement already satisfied: numpy>=1.23.2 in /usr/local/lib/python3.11/dist-packages (from pandas->iccd==0.1) (2.3.1)\n",
            "Requirement already satisfied: python-dateutil>=2.8.2 in /usr/local/lib/python3.11/dist-packages (from pandas->iccd==0.1) (2.9.0.post0)\n",
            "Requirement already satisfied: pytz>=2020.1 in /usr/local/lib/python3.11/dist-packages (from pandas->iccd==0.1) (2025.2)\n",
            "Requirement already satisfied: tzdata>=2022.7 in /usr/local/lib/python3.11/dist-packages (from pandas->iccd==0.1) (2025.2)\n",
            "Requirement already satisfied: six>=1.5 in /usr/local/lib/python3.11/dist-packages (from python-dateutil>=2.8.2->pandas->iccd==0.1) (1.17.0)\n"
          ]
        }
      ],
      "source": [
        "!pip install git+https://github.com/rmcesarjr/iccd.git\n"
      ]
    },
    {
      "cell_type": "code",
      "source": [
        "from matplotlib import pyplot as plt\n",
        "import iccd\n",
        "\n",
        "def main():\n",
        "  df = iccd.dataload('pib')\n",
        "  df.head()\n",
        "  df.plot(kind='scatter', x='ano', y='PIB', s=32)\n",
        "  plt.gca().spines[['top', 'right',]].set_visible(False)\n",
        "\n",
        "main()"
      ],
      "metadata": {
        "colab": {
          "base_uri": "https://localhost:8080/",
          "height": 449
        },
        "id": "5Ed0r2B5PB8m",
        "outputId": "ccb1948b-c228-43aa-ed27-345a37a7cc7c"
      },
      "execution_count": null,
      "outputs": [
        {
          "output_type": "display_data",
          "data": {
            "text/plain": [
              "<Figure size 640x480 with 1 Axes>"
            ],
            "image/png": "[encoded data removed]"
          },
          "metadata": {}
        }
      ]
    },
    {
      "cell_type": "code",
      "source": [
        "from matplotlib import pyplot as plt\n",
        "import iccd\n",
        "\n",
        "def main():\n",
        "  df = iccd.dataload('cidades')\n",
        "  df.head()\n",
        "  print(df)\n",
        "\n",
        "main()"
      ],
      "metadata": {
        "colab": {
          "base_uri": "https://localhost:8080/"
        },
        "id": "iMlcHM395qXl",
        "outputId": "7f3bde4b-ffc7-4ea6-d634-4b4722bab4d4"
      },
      "execution_count": null,
      "outputs": [
        {
          "output_type": "stream",
          "name": "stdout",
          "text": [
            "                     Cidade  População\n",
            "0                 São Paulo   12396372\n",
            "1            Rio de Janeiro    6775561\n",
            "2                  Brasília    3055149\n",
            "3                  Salvador    2886698\n",
            "4                 Fortaleza    2669342\n",
            "5            Belo Horizonte    2530701\n",
            "6                    Manaus    2256230\n",
            "7                  Curitiba    1963726\n",
            "8                    Recife    1653461\n",
            "9                   Goiânia    1555626\n",
            "10                    Belém    1499641\n",
            "11             Porto Alegre    1492530\n",
            "12                Guarulhos    1392128\n",
            "13                 Campinas    1213792\n",
            "14                 São Luís    1118721\n",
            "15              São Gonçalo    1091737\n",
            "16                   Maceió    1029129\n",
            "17          Duque de Caxias    1006281\n",
            "18                    Natal     998066\n",
            "19                 Teresina     868075\n",
            "20              Nova Iguaçu     862225\n",
            "21             Campo Grande     897938\n",
            "22    São Bernardo do Campo     844483\n",
            "23              João Pessoa     833932\n",
            "24              Santo André     748919\n",
            "25                   Osasco     743906\n",
            "26  Jaboatão dos Guararapes     706867\n",
            "27           Ribeirão Preto     711825\n",
            "28               Uberlândia     706597\n",
            "29                 Contagem     668949\n",
            "30                  Aracaju     664908\n",
            "31         Feira de Santana     619609\n",
            "32                   Cuiabá     618124\n",
            "33                Joinville     605494\n",
            "34     Aparecida de Goiânia     590146\n",
            "35                 Londrina     575377\n",
            "36             Juiz de Fora     573285\n",
            "37               Ananindeua     535547\n",
            "38                  Niterói     515317\n",
            "39             Belford Roxo     499166\n",
            "40    Campos dos Goytacazes     497883\n",
            "41                    Serra     517451\n",
            "42            Caxias do Sul     517307\n",
            "43       São João de Meriti     511786\n",
            "44                     Mauá     486483\n",
            "45                   Macapá     474706\n",
            "46            Florianópolis     476357\n",
            "47               Piracicaba     446734\n",
            "48                Cariacica     397825\n",
            "49               Vila Velha     501325\n"
          ]
        }
      ]
    },
    {
      "cell_type": "code",
      "source": [
        "import iccd\n",
        "from matplotlib import pyplot as plt\n",
        "import numpy as np\n",
        "import pandas as pd\n",
        "from mpl_toolkits.mplot3d import Axes3D  # necessário para o gráfico 3D\n",
        "\n",
        "\n",
        "def classifica_imc(imc):\n",
        "    if imc < 18.5:\n",
        "        return \"Abaixo do peso\"\n",
        "    elif imc < 25:\n",
        "        return \"Normal\"\n",
        "    elif imc < 30:\n",
        "        return \"Sobrepeso\"\n",
        "    else:\n",
        "        return \"Obesidade\"\n",
        "\n",
        "\n",
        "def tabela_histograma(df, coluna, bins):\n",
        "    \"\"\"Gera e imprime uma tabela de faixas com contagem\"\"\"\n",
        "    counts, bin_edges = np.histogram(df[coluna], bins=bins)\n",
        "    faixas = [f\"[{bin_edges[i]:.1f}, {bin_edges[i+1]:.1f})\" for i in range(len(bin_edges)-1)]\n",
        "    tabela = pd.DataFrame({coluna: faixas, \"Frequência\": counts})\n",
        "    print(f\"\\nTabela de histogramas para {coluna}:\\n\")\n",
        "    print(tabela.to_string(index=False))\n",
        "\n",
        "\n",
        "def plot_histograma_imc(df, coluna, cortes, titulo=\"\"):\n",
        "    \"\"\"Plota histograma do IMC com linhas verticais nos pontos de corte\"\"\"\n",
        "    bins = np.arange(15, 45, 1)\n",
        "    plt.figure(figsize=(8, 5))\n",
        "    plt.hist(df[coluna], bins=bins, edgecolor='black', alpha=0.7, color='skyblue')\n",
        "\n",
        "    for corte in cortes:\n",
        "        plt.axvline(x=corte, color='red', linestyle='--', linewidth=2)\n",
        "        plt.text(corte + 0.1, plt.ylim()[1]*0.9, f\"{corte}\", color='red')\n",
        "\n",
        "    plt.title(titulo)\n",
        "    plt.xlabel(\"IMC\")\n",
        "    plt.ylabel(\"Frequência\")\n",
        "    plt.grid(True)\n",
        "    plt.show()\n",
        "\n",
        "\n",
        "def main():\n",
        "    df = iccd.dataload('peso_altura')\n",
        "\n",
        "    # Calcular IMC e classificar\n",
        "    df[\"IMC\"] = df[\"Peso (kg)\"] / df[\"Altura (m)\"]**2\n",
        "    df[\"Categoria\"] = df[\"IMC\"].apply(classifica_imc)\n",
        "\n",
        "    cores = {\n",
        "        \"Abaixo do peso\": \"blue\",\n",
        "        \"Normal\": \"green\",\n",
        "        \"Sobrepeso\": \"orange\",\n",
        "        \"Obesidade\": \"red\"\n",
        "    }\n",
        "    df[\"Cor\"] = df[\"Categoria\"].map(cores)\n",
        "\n",
        "    # Histograma do IMC\n",
        "    cortes_imc = [18.5, 25, 30]\n",
        "    tabela_histograma(df, \"IMC\", bins=np.arange(15, 45, 1))\n",
        "    plot_histograma_imc(df, \"IMC\", cortes=cortes_imc, titulo=\"Distribuição do IMC\")\n",
        "\n",
        "main()\n"
      ],
      "metadata": {
        "colab": {
          "base_uri": "https://localhost:8080/",
          "height": 1000
        },
        "id": "CbFUE3wUEd9_",
        "outputId": "cd1bfa6d-d74e-4cfc-ffcd-9f841872dac3"
      },
      "execution_count": 7,
      "outputs": [
        {
          "output_type": "stream",
          "name": "stdout",
          "text": [
            "\n",
            "Tabela de histogramas para IMC:\n",
            "\n",
            "         IMC  Frequência\n",
            "[15.0, 16.0)           2\n",
            "[16.0, 17.0)           2\n",
            "[17.0, 18.0)           1\n",
            "[18.0, 19.0)           3\n",
            "[19.0, 20.0)           8\n",
            "[20.0, 21.0)           4\n",
            "[21.0, 22.0)           9\n",
            "[22.0, 23.0)           9\n",
            "[23.0, 24.0)           7\n",
            "[24.0, 25.0)           9\n",
            "[25.0, 26.0)           8\n",
            "[26.0, 27.0)           8\n",
            "[27.0, 28.0)           5\n",
            "[28.0, 29.0)           5\n",
            "[29.0, 30.0)           5\n",
            "[30.0, 31.0)           1\n",
            "[31.0, 32.0)           3\n",
            "[32.0, 33.0)           1\n",
            "[33.0, 34.0)           2\n",
            "[34.0, 35.0)           0\n",
            "[35.0, 36.0)           1\n",
            "[36.0, 37.0)           2\n",
            "[37.0, 38.0)           1\n",
            "[38.0, 39.0)           1\n",
            "[39.0, 40.0)           2\n",
            "[40.0, 41.0)           0\n",
            "[41.0, 42.0)           0\n",
            "[42.0, 43.0)           1\n",
            "[43.0, 44.0)           0\n"
          ]
        },
        {
          "output_type": "display_data",
          "data": {
            "text/plain": [
              "<Figure size 800x500 with 1 Axes>"
            ],
            "image/png": "[encoded data removed]"
          },
          "metadata": {}
        }
      ]
    }
  ]
}